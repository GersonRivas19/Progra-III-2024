{
  "nbformat": 4,
  "nbformat_minor": 0,
  "metadata": {
    "colab": {
      "provenance": [],
      "authorship_tag": "ABX9TyPjEt4wSidjvLE11lEcUsKa",
      "include_colab_link": true
    },
    "kernelspec": {
      "name": "python3",
      "display_name": "Python 3"
    },
    "language_info": {
      "name": "python"
    }
  },
  "cells": [
    {
      "cell_type": "markdown",
      "metadata": {
        "id": "view-in-github",
        "colab_type": "text"
      },
      "source": [
        "<a href=\"https://colab.research.google.com/github/GersonRivas19/Progra-III-2024/blob/main/Conversores_Temperatura.ipynb\" target=\"_parent\"><img src=\"https://colab.research.google.com/assets/colab-badge.svg\" alt=\"Open In Colab\"/></a>"
      ]
    },
    {
      "cell_type": "markdown",
      "source": [
        "TAREA (MIERCOLES):\n",
        "\n",
        "Convertir grados Farenheits a Celsius.\n",
        "\n",
        "Convertir grados [Celsius y Farenheit] a kelvin."
      ],
      "metadata": {
        "id": "Y-5wAqaNvFDg"
      }
    },
    {
      "cell_type": "code",
      "source": [
        "def convertir_faren(f):\n",
        "  return round((f - 32) * 5/9,5)\n",
        "\n",
        "f = float(input(\"Farenheit: \"))\n",
        "print(\"C: \", convertir_faren(f))"
      ],
      "metadata": {
        "id": "2HRt31zSvL51"
      },
      "execution_count": null,
      "outputs": []
    },
    {
      "cell_type": "code",
      "source": [
        "def convertir_celsius(c):\n",
        " return c+273.15\n",
        "\n",
        "def convertir_farenheit(fa):\n",
        "  return (fa -32) * 5/9 + 273.15\n",
        "\n",
        "while True:\n",
        "    print(\"\")\n",
        "    print(\"Elige una opcion: \")\n",
        "    print(\"1. Convertir Celsius a kelvin: \")\n",
        "    print(\"2. Convertir Farenheit a kelvin: \")\n",
        "    print(\"3. Salir\")\n",
        "\n",
        "    opcion = input(\"opcion: \")\n",
        "\n",
        "    if opcion == \"1\":\n",
        "      c = float(input(\"Introduzca la cantidad de celsius: \"))\n",
        "      k = convertir_celsius(c)\n",
        "      print(str(k) + \" kelvin \")\n",
        "\n",
        "    if opcion == \"2\":\n",
        "      fa = float(input(\"Introduzca la cantidad en farenheit: \"))\n",
        "      k = convertir_farenheit(fa)\n",
        "      print(str(k) + \" kelvin \")\n",
        "\n",
        "    if opcion == \"3\":\n",
        "      break\n",
        "\n",
        "\n",
        "\n"
      ],
      "metadata": {
        "colab": {
          "base_uri": "https://localhost:8080/"
        },
        "collapsed": true,
        "id": "gh7a5TQiHXxh",
        "outputId": "24a39897-0c0f-4dda-968d-420d02e360a9"
      },
      "execution_count": 25,
      "outputs": [
        {
          "name": "stdout",
          "output_type": "stream",
          "text": [
            "\n",
            "Elige una opcion: \n",
            "1. Convertir Celsius a kelvin: \n",
            "2. Convertir Farenheit a kelvin: \n",
            "3. Salir\n",
            "opcion: 2\n",
            "Introduzca la cantidad en farenheit: 50\n",
            "283.15 kelvin \n",
            "\n",
            "Elige una opcion: \n",
            "1. Convertir Celsius a kelvin: \n",
            "2. Convertir Farenheit a kelvin: \n",
            "3. Salir\n",
            "opcion: 11\n",
            "\n",
            "Elige una opcion: \n",
            "1. Convertir Celsius a kelvin: \n",
            "2. Convertir Farenheit a kelvin: \n",
            "3. Salir\n",
            "opcion: 3\n"
          ]
        }
      ]
    }
  ]
}