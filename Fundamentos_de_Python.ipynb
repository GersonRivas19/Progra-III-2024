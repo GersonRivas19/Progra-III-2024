{
  "nbformat": 4,
  "nbformat_minor": 0,
  "metadata": {
    "colab": {
      "provenance": [],
      "authorship_tag": "ABX9TyPqpnykFuX0KnbDHmQMgr8G",
      "include_colab_link": true
    },
    "kernelspec": {
      "name": "python3",
      "display_name": "Python 3"
    },
    "language_info": {
      "name": "python"
    }
  },
  "cells": [
    {
      "cell_type": "markdown",
      "metadata": {
        "id": "view-in-github",
        "colab_type": "text"
      },
      "source": [
        "<a href=\"https://colab.research.google.com/github/GersonRivas19/Progra-III-2024/blob/main/Fundamentos_de_Python.ipynb\" target=\"_parent\"><img src=\"https://colab.research.google.com/assets/colab-badge.svg\" alt=\"Open In Colab\"/></a>"
      ]
    },
    {
      "cell_type": "code",
      "execution_count": 3,
      "metadata": {
        "colab": {
          "base_uri": "https://localhost:8080/"
        },
        "collapsed": true,
        "id": "84anIteL4c8D",
        "outputId": "18b5c76b-233f-440c-d3a6-913453d2f9c7"
      },
      "outputs": [
        {
          "output_type": "stream",
          "name": "stdout",
          "text": [
            "Hola\n",
            "10\n"
          ]
        }
      ],
      "source": [
        "print (\"Hola\")\n",
        "\n",
        "num1 = 5\n",
        "num2 = 5\n",
        "suma = num1 + num2\n",
        "print (suma)"
      ]
    },
    {
      "cell_type": "markdown",
      "source": [
        "Suma de dos numeros con valores introducidos por el usuario\n"
      ],
      "metadata": {
        "id": "KlhI91Pe9qm-"
      }
    },
    {
      "cell_type": "code",
      "source": [
        "print (\"Num1\")\n",
        "num1 = int(input())\n",
        "print (\"Num2\")\n",
        "num2 = int(input())\n",
        "suma = num1 + num2\n",
        "print (\"La suma es: \",suma)"
      ],
      "metadata": {
        "colab": {
          "base_uri": "https://localhost:8080/"
        },
        "collapsed": true,
        "id": "juRIlf3I9nan",
        "outputId": "10c910b6-0473-41f9-f7e0-a59f99149380"
      },
      "execution_count": 11,
      "outputs": [
        {
          "output_type": "stream",
          "name": "stdout",
          "text": [
            "Num1\n",
            "2\n",
            "Num2\n",
            "2\n",
            "La suma es:  4\n"
          ]
        }
      ]
    },
    {
      "cell_type": "code",
      "source": [
        "num = int(input(\"Ingrese un numero\"))\n",
        "if num % 2 == 0:\n",
        "  print(\"El numero es par\")\n",
        "else:\n",
        "  print(\"El numero es impar\")"
      ],
      "metadata": {
        "colab": {
          "base_uri": "https://localhost:8080/"
        },
        "id": "y6xAN69NCJ1R",
        "outputId": "af9506cd-58e2-4680-8dbe-9c85e2470c16"
      },
      "execution_count": 13,
      "outputs": [
        {
          "output_type": "stream",
          "name": "stdout",
          "text": [
            "Ingrese un numero3\n",
            "El numero es impar\n"
          ]
        }
      ]
    }
  ]
}