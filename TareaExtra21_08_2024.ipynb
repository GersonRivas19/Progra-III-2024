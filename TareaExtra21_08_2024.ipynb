{
  "nbformat": 4,
  "nbformat_minor": 0,
  "metadata": {
    "colab": {
      "provenance": [],
      "authorship_tag": "ABX9TyNBVnlqG02n+CxxsJgQ8sBg",
      "include_colab_link": true
    },
    "kernelspec": {
      "name": "python3",
      "display_name": "Python 3"
    },
    "language_info": {
      "name": "python"
    }
  },
  "cells": [
    {
      "cell_type": "markdown",
      "metadata": {
        "id": "view-in-github",
        "colab_type": "text"
      },
      "source": [
        "<a href=\"https://colab.research.google.com/github/GersonRivas19/Progra-III-2024/blob/main/TareaExtra21_08_2024.ipynb\" target=\"_parent\"><img src=\"https://colab.research.google.com/assets/colab-badge.svg\" alt=\"Open In Colab\"/></a>"
      ]
    },
    {
      "cell_type": "markdown",
      "source": [
        "Escriba un programa que lea una serie de numeros introducidos por el usuario, y determine la media aritmetica."
      ],
      "metadata": {
        "id": "PvWzlNp4SFbb"
      }
    },
    {
      "cell_type": "code",
      "execution_count": null,
      "metadata": {
        "id": "tWXqGNgIR2Sm"
      },
      "outputs": [],
      "source": [
        "from math import sqrt\n",
        "\n",
        "class estadistica:\n",
        "  def media(self, serie):\n",
        "    suma = 0\n",
        "    for num in serie:\n",
        "      suma += num\n",
        "    return suma/len(serie)\n",
        "\n",
        "  def tipica(self, serie):\n",
        "    media = self.media(serie)\n",
        "    suma = 0\n",
        "    for num in serie:\n",
        "      suma += (num-media)**2\n",
        "    return sqrt(suma/len(serie))\n",
        "\n",
        "\n",
        "n = int(input(\"Cuantos numeros va a ingresar: \"))\n",
        "serie = []\n",
        "for num in range(1,n+1):\n",
        "  serie.append(int(input(\"Num: \")))\n",
        "\n",
        "objEstadistica = estadistica()\n",
        "print(\"La media es: \", objEstadistica.media(serie))\n",
        "\n",
        "print(\"La desviacion tipica es: \", round(objEstadistica.tipica(serie),3) )"
      ]
    },
    {
      "cell_type": "markdown",
      "source": [
        "Encontrar de una serie de numeros introducidos por el usuario la varianza:"
      ],
      "metadata": {
        "id": "XZcZRSHqSsZa"
      }
    },
    {
      "cell_type": "code",
      "source": [
        "class media_aritmetica:\n",
        "  def media(self, serie):\n",
        "    suma = 0\n",
        "    for num in serie:\n",
        "      suma += num\n",
        "    return suma/len(serie)\n",
        "\n",
        "class varianza:\n",
        "  def varianza(self, serie):\n",
        "    media = media_aritmetica()\n",
        "    suma = 0\n",
        "    for num in serie:\n",
        "      suma += (num-media.media(serie))**2\n",
        "    return suma/len(serie)\n",
        "\n",
        "n = int(input(\"Cuantos numeros va a ingresar: \"))\n",
        "serie = []\n",
        "for num in range(1,n+1):\n",
        "  serie.append(int(input(\"Num: \")))\n",
        "\n",
        "objmedia = media_aritmetica()\n",
        "print(\"La media es: \", objmedia.media(serie))\n",
        "\n",
        "objmedia = varianza()\n",
        "\n",
        "print(\"La varianza es: \", round(objmedia.varianza(serie),3))"
      ],
      "metadata": {
        "id": "hNLUvfPkSv4O"
      },
      "execution_count": null,
      "outputs": []
    },
    {
      "cell_type": "markdown",
      "source": [
        "Escriba un programa que determine si una palabra introducida por el usuario es palindrome. Ejem. Ana, Oso, Oro, Reconocer, etc."
      ],
      "metadata": {
        "id": "GZVR3DU0ejtx"
      }
    },
    {
      "cell_type": "code",
      "source": [
        "palabra = input(\"Ingrese una palabra: \")\n",
        "\n",
        "if palabra == palabra[::-1]:\n",
        "  print(\"Es palindrome\")\n",
        "else:\n",
        "  print(\"No es palindrome\")"
      ],
      "metadata": {
        "id": "J_BAuOviemsZ"
      },
      "execution_count": null,
      "outputs": []
    }
  ]
}