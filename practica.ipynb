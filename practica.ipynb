{
  "nbformat": 4,
  "nbformat_minor": 0,
  "metadata": {
    "colab": {
      "provenance": [],
      "authorship_tag": "ABX9TyO4qaY4bVQbDoq3BYNU/4b2",
      "include_colab_link": true
    },
    "kernelspec": {
      "name": "python3",
      "display_name": "Python 3"
    },
    "language_info": {
      "name": "python"
    }
  },
  "cells": [
    {
      "cell_type": "markdown",
      "metadata": {
        "id": "view-in-github",
        "colab_type": "text"
      },
      "source": [
        "<a href=\"https://colab.research.google.com/github/GersonRivas19/Progra-III-2024/blob/main/practica.ipynb\" target=\"_parent\"><img src=\"https://colab.research.google.com/assets/colab-badge.svg\" alt=\"Open In Colab\"/></a>"
      ]
    },
    {
      "cell_type": "markdown",
      "source": [
        "Estructuras de control:"
      ],
      "metadata": {
        "id": "0HAILseyFyPo"
      }
    },
    {
      "cell_type": "markdown",
      "source": [
        "Solicitar al usuario su edad: con if"
      ],
      "metadata": {
        "id": "_kmWfLpIF9Fl"
      }
    },
    {
      "cell_type": "code",
      "execution_count": 5,
      "metadata": {
        "colab": {
          "base_uri": "https://localhost:8080/"
        },
        "id": "TGtfxmn9Fplb",
        "outputId": "202bf66b-0f20-403a-edf3-547c76e9a0eb"
      },
      "outputs": [
        {
          "output_type": "stream",
          "name": "stdout",
          "text": [
            "Ingrese su edad: 5\n",
            "usted es menor\n"
          ]
        }
      ],
      "source": [
        "edad = int(input(\"Ingrese su edad: \"))\n",
        "\n",
        "if edad > 17:\n",
        "  print(\"Bienvenido al mundo de las responsabilidades \")\n",
        "else:\n",
        "  print(\"Hola bb\")"
      ]
    },
    {
      "cell_type": "code",
      "source": [
        "continuar = \"1\"\n",
        "while continuar==\"1\":\n",
        " num = float(input(\"Ingrese un numero: \"))\n",
        "if num <0:\n",
        "  print(\"Este numero es negativo\")\n",
        "else:\n",
        "  print(\"Este numero es positivo\")\n",
        "\n",
        "continuar = input(\"Continuar 1, sino cualquier tecla: \")\n"
      ],
      "metadata": {
        "id": "MGUnK--HHaZ6"
      },
      "execution_count": null,
      "outputs": []
    },
    {
      "cell_type": "markdown",
      "source": [
        "Solicitar una tabla de multiplicar y generarla:"
      ],
      "metadata": {
        "id": "fu2ursoGOcfm"
      }
    },
    {
      "cell_type": "code",
      "source": [
        "continuar=\"s\"\n",
        "while continuar==\"s\":\n",
        "  tabla = int(input(\"Tabla: \"))\n",
        "  for i in range(1,11):\n",
        "    print(tabla, \"x\", i, \"=\", tabla*i)\n",
        "continuar = input(\"Continuar s , sino cualquier tecla: \")"
      ],
      "metadata": {
        "id": "f802EsXQOjvz"
      },
      "execution_count": null,
      "outputs": []
    }
  ]
}