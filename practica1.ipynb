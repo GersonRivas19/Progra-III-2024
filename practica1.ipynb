{
  "nbformat": 4,
  "nbformat_minor": 0,
  "metadata": {
    "colab": {
      "provenance": [],
      "authorship_tag": "ABX9TyNIw4DxhR5lg5ScsyV6H9t1",
      "include_colab_link": true
    },
    "kernelspec": {
      "name": "python3",
      "display_name": "Python 3"
    },
    "language_info": {
      "name": "python"
    }
  },
  "cells": [
    {
      "cell_type": "markdown",
      "metadata": {
        "id": "view-in-github",
        "colab_type": "text"
      },
      "source": [
        "<a href=\"https://colab.research.google.com/github/GersonRivas19/Progra-III-2024/blob/main/practica1.ipynb\" target=\"_parent\"><img src=\"https://colab.research.google.com/assets/colab-badge.svg\" alt=\"Open In Colab\"/></a>"
      ]
    },
    {
      "cell_type": "code",
      "execution_count": 16,
      "metadata": {
        "id": "WqwY74J99MEc",
        "colab": {
          "base_uri": "https://localhost:8080/"
        },
        "collapsed": true,
        "outputId": "350ded86-8ec6-4c6e-ea63-b0821039e338"
      },
      "outputs": [
        {
          "output_type": "stream",
          "name": "stdout",
          "text": [
            "Ingrese su nombre gerson\n",
            "Ingrese su apellido rivas\n",
            "Ingrese su edad 20\n",
            "Hola Gerson Rivas tu edad es 20 años\n"
          ]
        }
      ],
      "source": [
        "nombre = input(\"Ingrese su nombre \")\n",
        "apellido = input(\"Ingrese su apellido \")\n",
        "edad = input(\"Ingrese su edad \")\n",
        "\n",
        "print (\"Hola \" + nombre.capitalize() + \" \" + apellido.capitalize() + \" tu edad es \" + str(edad) + \" años\")"
      ]
    },
    {
      "cell_type": "markdown",
      "source": [],
      "metadata": {
        "id": "ndDpou3JBKa3"
      }
    },
    {
      "cell_type": "code",
      "source": [
        "horas_trabajadas = int(input(\"cuantas horas trabajo: \"))\n",
        "costo_hora = float(input(\"cuanto es el pago por hora: \"))\n",
        "pago = horas_trabajadas * costo_hora\n",
        "print (\"Tu pago es de: \" + str(pago))"
      ],
      "metadata": {
        "colab": {
          "base_uri": "https://localhost:8080/"
        },
        "collapsed": true,
        "id": "SDh7ceuPEbGz",
        "outputId": "e7b4ea59-1105-4a69-a85a-4ed3313bd760"
      },
      "execution_count": 29,
      "outputs": [
        {
          "output_type": "stream",
          "name": "stdout",
          "text": [
            "cuantas horas trabajo: 5\n",
            "cuanto es el pago por hora: 10\n",
            "Tu pago es de: 50.0\n"
          ]
        }
      ]
    },
    {
      "cell_type": "code",
      "source": [
        "peso = float(input(\"Ingrese su peso en kg: \"))\n",
        "altura = float(input(\"Ingrese su altura en metros: \"))\n",
        "masa_corporal = round(float(peso) / (altura)**2,2)\n",
        "print(\"Tu indice de masa corporal es: \" + str(masa_corporal))"
      ],
      "metadata": {
        "colab": {
          "base_uri": "https://localhost:8080/"
        },
        "id": "p3_w1_H1I963",
        "outputId": "a24d9c3c-1ca7-40f1-a71b-b571b7ba4c58"
      },
      "execution_count": 35,
      "outputs": [
        {
          "output_type": "stream",
          "name": "stdout",
          "text": [
            "Ingrese su peso en kg: 68\n",
            "Ingrese su altura en metros: 1.65\n",
            "Tu indice de masa corporal es: 24.98\n"
          ]
        }
      ]
    },
    {
      "cell_type": "code",
      "source": [
        "cantidad = float(input(\"Ingrese la cantidad a invertir: \"))\n",
        "interes = float(input(\"Ingrese el interes anual: \"))\n",
        "tiempo = int(input(\"Años a invertir: \"))\n",
        "capital = round(cantidad * (1 + (interes / 100))**tiempo,2)\n",
        "print(\"El capital obtenido es: \" + str(capital))"
      ],
      "metadata": {
        "colab": {
          "base_uri": "https://localhost:8080/"
        },
        "id": "dz5hbEwheBi_",
        "outputId": "eef1761b-30ad-4197-bb26-d3e274322b6e"
      },
      "execution_count": 4,
      "outputs": [
        {
          "output_type": "stream",
          "name": "stdout",
          "text": [
            "Ingrese la cantidad a invertir: 500\n",
            "Ingrese el interes anual: 10\n",
            "Años a invertir: 2\n",
            "El capital obtenido es: 605.0\n"
          ]
        }
      ]
    }
  ]
}