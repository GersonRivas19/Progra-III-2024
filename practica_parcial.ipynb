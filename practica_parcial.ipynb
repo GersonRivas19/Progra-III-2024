{
  "nbformat": 4,
  "nbformat_minor": 0,
  "metadata": {
    "colab": {
      "provenance": [],
      "authorship_tag": "ABX9TyO7Cd+wB3DZ36ObP45URLyl",
      "include_colab_link": true
    },
    "kernelspec": {
      "name": "python3",
      "display_name": "Python 3"
    },
    "language_info": {
      "name": "python"
    }
  },
  "cells": [
    {
      "cell_type": "markdown",
      "metadata": {
        "id": "view-in-github",
        "colab_type": "text"
      },
      "source": [
        "<a href=\"https://colab.research.google.com/github/GersonRivas19/Progra-III-2024/blob/main/practica_parcial.ipynb\" target=\"_parent\"><img src=\"https://colab.research.google.com/assets/colab-badge.svg\" alt=\"Open In Colab\"/></a>"
      ]
    },
    {
      "cell_type": "code",
      "source": [
        "def convertir_prueba(de, a, cantidad):\n",
        "    valores = [1, 8.68, 0.89, 435.33]\n",
        "    return valores[a] / valores[de] * cantidad\n",
        "\n",
        "def submenu_prueba():\n",
        "    print(\"Convertir de: \")\n",
        "    print(\"1. Dolar: \")\n",
        "    print(\"2. Colon: \")\n",
        "    print(\"3. Euro: \")\n",
        "    print(\"4. Peso colombiano: \")\n",
        "\n",
        "    de = int(input(\"opcion: \")) -1\n",
        "\n",
        "    print(\"\")\n",
        "    print(\"1. Dolar: \")\n",
        "    print(\"2. Colon: \")\n",
        "    print(\"3. Euro: \")\n",
        "    print(\"4. Peso colombiano: \")\n",
        "\n",
        "    a = int(input(\"opcion: \")) -1\n",
        "\n",
        "    return de, a\n",
        "\n",
        "def menu_principal():\n",
        "    print(\"\")\n",
        "    print(\"Eliga su conversor\")\n",
        "    print(\"1. Conversor de monedas: \")\n",
        "    print(\"2. conversor de longitud: \")\n",
        "\n",
        "    opcion = int(input(\"opcion: \"))\n",
        "\n",
        "    if opcion ==1:\n",
        "      de, a = submenu_prueba()\n",
        "      cantidad = int(input(\"Ingrese la cantidad a convertir: \"))\n",
        "      resultado = convertir_prueba(de, a, cantidad)\n",
        "      print(\"La respuesta es: \", resultado)\n",
        "\n",
        "menu_principal()\n",
        ""
      ],
      "metadata": {
        "id": "RMjE8d7eCyOE"
      },
      "execution_count": null,
      "outputs": []
    }
  ]
}